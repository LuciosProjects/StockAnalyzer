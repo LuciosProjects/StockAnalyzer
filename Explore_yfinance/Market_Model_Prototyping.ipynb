{
 "cells": [
  {
   "cell_type": "markdown",
   "metadata": {},
   "source": [
    "Imports"
   ]
  },
  {
   "cell_type": "code",
   "execution_count": null,
   "metadata": {},
   "outputs": [],
   "source": [
    "import numpy as np\n",
    "import pandas as pd\n",
    "import yfinance as yf\n",
    "\n",
    "import sys\n",
    "from pathlib import Path\n",
    "# import datetime as dt\n",
    "# from enum import Enum\n",
    "\n",
    "# import matplotlib.pyplot as plt\n",
    "import plotly.graph_objects as go\n",
    "import plotly.express as px\n",
    "\n",
    "import gc\n",
    "\n",
    "sys.path.append(str(Path('D:\\Desktop\\VS\\VSCode\\Python\\StockAnalyzer').resolve()))"
   ]
  },
  {
   "cell_type": "markdown",
   "metadata": {},
   "source": [
    "Setup"
   ]
  },
  {
   "cell_type": "code",
   "execution_count": null,
   "metadata": {},
   "outputs": [],
   "source": [
    "Market_Tickers = ['AAPL', 'TSLA', 'NVDA', 'INTC', 'MSFT',\n",
    "                  'PFE', 'JNJ', 'MRNA', 'ABT', 'AMGN',\n",
    "                  'XOM', 'CVX', 'BP', 'SHEL', 'TTE',\n",
    "                  'JPM', 'BAC', 'C', 'GS', 'MS',\n",
    "                  'AMZN', 'WMT', 'COST', 'TGT', 'HD',\n",
    "                  'TSM', 'TM', 'SFTBY', 'BABA'\n",
    "                ]\n",
    "\n",
    "start_date = \"1995-01-01\"\n",
    "ticker_data = {ticker: yf.Ticker(ticker) for ticker in Market_Tickers}\n",
    "\n",
    "temp = yf.download(Market_Tickers, start=start_date, group_by='ticker')\n",
    "\n",
    "# Filter to only 'Close' and 'Volume' columns\n",
    "tickers_historical_data = temp.loc[:, (slice(None), [\"Adj Close\"])]\n",
    "del temp\n",
    "\n",
    "# tickers_historical_close_price = yf.download(Market_Tickers,start=\"1995-01-01\")[\"Close\", \"Adj. Close\"]"
   ]
  },
  {
   "cell_type": "markdown",
   "metadata": {},
   "source": [
    "Analysis"
   ]
  },
  {
   "cell_type": "code",
   "execution_count": null,
   "metadata": {},
   "outputs": [],
   "source": [
    "# DailyReturns = pd.DataFrame({ticker: tickers_historical_data[ticker][\"Close\"].pct_change()*100 for ticker in Market_Tickers})"
   ]
  },
  {
   "cell_type": "markdown",
   "metadata": {},
   "source": [
    "Calculate market cap"
   ]
  },
  {
   "cell_type": "code",
   "execution_count": null,
   "metadata": {},
   "outputs": [],
   "source": [
    "def calculate_market_caps(prices, ticker):\n",
    "    \"\"\"\n",
    "    Backpropagates market cap for each day, adjusting the number of shares based on \n",
    "    historical stock actions (splits, buybacks).\n",
    "    \n",
    "    :param prices_df: DataFrame of daily stock prices with 'Close' column.\n",
    "    :param ticker_obj: yfinance.Ticker object for the stock.\n",
    "    :return: DataFrame with added 'Market Cap' column.\n",
    "    \"\"\"\n",
    "    \n",
    "    ## Initialize shares_outstanding\n",
    "    # Try to get the sharesOutstanding (if available)\n",
    "    shares_outstanding = ticker.info.get('sharesOutstanding', None)\n",
    "    \n",
    "    # If sharesOutstanding is not available, fall back to using floatShares (if available)\n",
    "    if shares_outstanding is None:\n",
    "        try:\n",
    "            shares_outstanding = ticker.info.get('floatShares', None)\n",
    "        except:\n",
    "            pass\n",
    "        if shares_outstanding is None:\n",
    "            print(f\"Warning: Both sharesOutstanding and floatShares are missing for {ticker.ticker}. Cannot calculate market cap.\")\n",
    "            return None  # Return None if both are missing\n",
    "    \n",
    "    adj_close_prices = prices.to_numpy()\n",
    "    adj_close_prices = adj_close_prices.reshape(-1)  # Flatten if necessary (e.g., in case it's a 2D array)\n",
    "\n",
    "    market_caps = adj_close_prices * shares_outstanding\n",
    "\n",
    "    # return market_caps\n",
    "    return pd.Series(market_caps, index=prices.index)\n"
   ]
  },
  {
   "cell_type": "markdown",
   "metadata": {},
   "source": [
    "Calc stock weights"
   ]
  },
  {
   "cell_type": "code",
   "execution_count": null,
   "metadata": {},
   "outputs": [],
   "source": [
    "def calculate_stock_weights(market_caps):\n",
    "    \"\"\"\n",
    "    Optimized version to calculate the weight of each stock in the market on each date.\n",
    "    \n",
    "    :param market_caps: pandas DataFrame of market caps, indexed by dates, with columns for each stock.\n",
    "    :return: pandas DataFrame with the weight of each stock on each date.\n",
    "    \"\"\"\n",
    "    # Calculate the total market cap for each date in a vectorized way\n",
    "    total_market_caps = market_caps.sum(axis=1)\n",
    "\n",
    "    # Avoid division by zero by filling any NaNs in total_market_caps with 1 (to keep results valid)\n",
    "    # The result will still be NaN for dates with zero market cap\n",
    "    total_market_caps = total_market_caps.replace(0, 1)\n",
    "\n",
    "    # Calculate weights using broadcasting (no loop needed)\n",
    "    stock_weights = market_caps.div(total_market_caps, axis=0)\n",
    "    \n",
    "    return stock_weights"
   ]
  },
  {
   "cell_type": "markdown",
   "metadata": {},
   "source": [
    "Build Market Caps history for each ticker"
   ]
  },
  {
   "cell_type": "code",
   "execution_count": null,
   "metadata": {},
   "outputs": [],
   "source": [
    "MarketCap_data = pd.DataFrame(columns=Market_Tickers,index=tickers_historical_data.index)\n",
    "\n",
    "for ticker in Market_Tickers:\n",
    "    print(ticker)\n",
    "    MarketCap_data[ticker] = calculate_market_caps(     tickers_historical_data[ticker],\n",
    "                                                        ticker_data[ticker])\n",
    "    gc.collect()  # Force garbage collection to free memory\n",
    "\n",
    "# market_daily_returns = DailyReturns.mean(axis=1,skipna=True)\n",
    "# market_daily_returns[0] = 0\n",
    "\n",
    "# data_len = market_daily_returns.__len__()\n",
    "\n",
    "# market_trend = np.zeros(shape=market_daily_returns.shape)\n",
    "# for i_day in range(1,len(market_daily_returns)):\n",
    "#     market_trend[i_day] = (np.prod(1 + (market_daily_returns[0:i_day]/100)) - 1)*100\n"
   ]
  },
  {
   "cell_type": "markdown",
   "metadata": {},
   "source": [
    "Calculate the full market index"
   ]
  },
  {
   "cell_type": "code",
   "execution_count": null,
   "metadata": {},
   "outputs": [],
   "source": [
    "Stock_Weights = calculate_stock_weights(MarketCap_data)\n",
    "\n",
    "# tickers_historical_data.reindex(Stock_Weights.index)\n",
    "tickers_historical_data.index = pd.to_datetime(tickers_historical_data.index).tz_localize(None)\n",
    "# Stock_Weights.reindex(tickers_historical_data.index)\n",
    "Stock_Weights.index = pd.to_datetime(Stock_Weights.index).tz_localize(None)\n",
    "\n",
    "temp = np.nan_to_num(Stock_Weights.to_numpy() * tickers_historical_data.to_numpy(),0).sum(axis=1)\n",
    "first_value_pos = np.where(temp > 0)[0][0]\n",
    "\n",
    "# Compute cumulative probabilities\n",
    "daily_change = (np.append(0,np.diff(temp[first_value_pos:]))/temp[first_value_pos:])*100\n",
    "daily_change_sorted = np.sort(daily_change)\n",
    "n = daily_change_sorted.__len__()\n",
    "\n",
    "cumulative_probs = np.arange(1, n + 1) / n # Cumulative probabilities from 0 to 1\n",
    "\n",
    "world_idx_price = pd.DataFrame(index=tickers_historical_data.index, columns=[\"price index\", \"index returns\", \"returns\", \"sorted returns\", \"CDF\"])\n",
    "world_idx_price[\"price index\"] = temp\n",
    "world_idx_price[\"index returns\"] = ((temp/temp[first_value_pos]) - 1)*100\n",
    "world_idx_price[\"returns\"] = daily_change\n",
    "world_idx_price[\"sorted returns\"] = daily_change_sorted\n",
    "world_idx_price[\"CDF\"] = cumulative_probs\n",
    "\n",
    "del temp"
   ]
  },
  {
   "cell_type": "code",
   "execution_count": null,
   "metadata": {},
   "outputs": [],
   "source": [
    "fig = go.Figure()\n",
    "fig.add_trace(go.Scatter(x=world_idx_price.index,y=world_idx_price[\"index returns\"],mode='lines',name=\"Market Trend\"))\n",
    "fig.update_layout(\n",
    "    title=\"Daily Market Trend (Market-Cap-Weighted)\",\n",
    "    xaxis_title=\"Date\",\n",
    "    yaxis_title=\"Average Daily Return [%]\"\n",
    ")\n",
    "fig.show()"
   ]
  },
  {
   "cell_type": "markdown",
   "metadata": {},
   "source": [
    "Sector & Geographical trends"
   ]
  },
  {
   "cell_type": "code",
   "execution_count": null,
   "metadata": {},
   "outputs": [],
   "source": [
    "Geographical_Grouping = {'United States': 'North America', \n",
    "                         'United Kingdom': 'Europe',\n",
    "                         'France': 'Europe',\n",
    "                         'Taiwan': 'Asia',\n",
    "                         'South Korea': 'Asia',\n",
    "                         'China': 'Asia',\n",
    "                         'Japan': 'Asia'\n",
    "                         }"
   ]
  },
  {
   "cell_type": "code",
   "execution_count": null,
   "metadata": {},
   "outputs": [],
   "source": [
    "sectors = []\n",
    "countries = []\n",
    "regions = []\n",
    "SectorGroups = {}\n",
    "GeoGroups = {}\n",
    "for ticker in Market_Tickers:\n",
    "    sector = ticker_data[ticker].info['sector']\n",
    "    country = ticker_data[ticker].info['country']\n",
    "\n",
    "    sectors.append(sector)\n",
    "    countries.append(country)\n",
    "\n",
    "    region = Geographical_Grouping[country]\n",
    "    regions.append(region)\n",
    "\n",
    "    if(region not in GeoGroups):\n",
    "        GeoGroups[region] = []\n",
    "    GeoGroups[region].append(ticker)\n",
    "\n",
    "    if(sector not in SectorGroups):\n",
    "        SectorGroups[sector] = []\n",
    "    SectorGroups[sector].append(ticker)"
   ]
  },
  {
   "cell_type": "code",
   "execution_count": null,
   "metadata": {},
   "outputs": [],
   "source": [
    "sectors = np.unique(sectors)\n",
    "regions = np.unique(regions)"
   ]
  },
  {
   "cell_type": "code",
   "execution_count": null,
   "metadata": {},
   "outputs": [],
   "source": [
    "# IMPORTANT! : need to address division by 0 on some of the markets' daily return values\n",
    "\n",
    "Sector_idx_prices = pd.DataFrame(index=tickers_historical_data.index, columns=sectors)\n",
    "Sector_idx_returns = pd.DataFrame(index=tickers_historical_data.index, columns=sectors)\n",
    "# Sector_idx_daily_chng = pd.DataFrame(index=tickers_historical_data.index, columns=sectors)\n",
    "Sector_idx_daily_chng = {}\n",
    "# Sector_idx_daily_chng_srt = pd.DataFrame(index=tickers_historical_data.index, columns=sectors)\n",
    "Sector_idx_daily_chng_srt = {}\n",
    "# Sector_idx_cdf = pd.DataFrame(index=tickers_historical_data.index, columns=sectors)\n",
    "Sector_idx_cdf = {}\n",
    "\n",
    "Geo_idx_prices = pd.DataFrame(index=tickers_historical_data.index, columns=regions)\n",
    "Geo_idx_returns = pd.DataFrame(index=tickers_historical_data.index, columns=regions)\n",
    "# Geo_idx_daily_chng = pd.DataFrame(index=tickers_historical_data.index, columns=regions)\n",
    "Geo_idx_daily_chng = {}\n",
    "# Geo_idx_daily_chng_srt = pd.DataFrame(index=tickers_historical_data.index, columns=regions)\n",
    "Geo_idx_daily_chng_srt = {}\n",
    "# Geo_idx_cdf = pd.DataFrame(index=tickers_historical_data.index, columns=regions)\n",
    "Geo_idx_cdf = {}\n",
    "\n",
    "# pd.DataFrame({ticker: closing_prices[ticker].pct_change()*100 for ticker in Market_Tickers})\n",
    "\n",
    "for sector in sectors:\n",
    "    Tickers = SectorGroups[sector]\n",
    "\n",
    "    Sector_Weights = calculate_stock_weights(MarketCap_data[Tickers])\n",
    "\n",
    "    temp = np.nan_to_num(Sector_Weights.to_numpy() * tickers_historical_data[Tickers].to_numpy(),0).sum(axis=1)\n",
    "    first_value_pos = np.where(temp > 0)[0][0]\n",
    "    \n",
    "    temp_daily_change = (np.append(0,np.diff(temp[first_value_pos:]))/temp[first_value_pos:])*100\n",
    "    temp_daily_change_srt = np.sort(temp_daily_change)\n",
    "\n",
    "    n = temp_daily_change_srt.__len__()\n",
    "\n",
    "    temp_daily_change_cdf = np.arange(1, 1 + n) / n\n",
    "\n",
    "    Sector_idx_prices[sector] = temp\n",
    "    Sector_idx_returns[sector] = ((temp/temp[first_value_pos]) - 1)*100 # since the first day\n",
    "    Sector_idx_daily_chng[sector] = temp_daily_change\n",
    "    Sector_idx_daily_chng_srt[sector] = temp_daily_change_srt\n",
    "    Sector_idx_cdf[sector] = temp_daily_change_cdf\n",
    "\n",
    "    del temp\n",
    "\n",
    "for region in regions:\n",
    "    Tickers = GeoGroups[region]\n",
    "\n",
    "    region_Weights = calculate_stock_weights(MarketCap_data[Tickers])\n",
    "\n",
    "    temp = np.nan_to_num(region_Weights.to_numpy() * tickers_historical_data[Tickers].to_numpy(),0).sum(axis=1)\n",
    "    first_value_pos = np.where(temp > 0)[0][0]\n",
    "\n",
    "    temp_daily_change = (np.append(0,np.diff(temp[first_value_pos:]))/temp[first_value_pos:])*100\n",
    "    temp_daily_change_srt = np.sort(temp_daily_change)\n",
    "\n",
    "    n = temp_daily_change_srt.__len__()\n",
    "\n",
    "    temp_daily_change_cdf = np.arange(1, 1 + n) / n\n",
    "\n",
    "    Geo_idx_prices[region] = temp\n",
    "    Geo_idx_returns[region] = ((temp/temp[first_value_pos]) - 1)*100\n",
    "    Geo_idx_daily_chng[region] = temp_daily_change\n",
    "    Geo_idx_daily_chng_srt[region] = temp_daily_change_srt\n",
    "    Geo_idx_cdf[region] = temp_daily_change_cdf\n",
    "    \n",
    "    del temp\n"
   ]
  },
  {
   "cell_type": "markdown",
   "metadata": {},
   "source": [
    "Plot Sector & Geographical trends"
   ]
  },
  {
   "cell_type": "code",
   "execution_count": null,
   "metadata": {},
   "outputs": [],
   "source": [
    "# Plot sectors\n",
    "fig_sectors = go.Figure()\n",
    "for sector in sectors:\n",
    "    fig_sectors.add_trace(go.Scatter(x=Sector_idx_returns.index, y=Sector_idx_returns[sector], mode=\"lines\", name=sector))\n",
    "\n",
    "fig_sectors.update_layout(\n",
    "    title=\"Sector Trends\",\n",
    "    xaxis_title=\"Date\",\n",
    "    yaxis_title=\"Sector Trend [%]\",\n",
    "    legend_title=\"Sectors\",\n",
    ")\n",
    "fig_sectors.show()\n",
    "\n",
    "# Plot geographical markets\n",
    "fig_geo = go.Figure()\n",
    "for region in regions:\n",
    "    fig_geo.add_trace(go.Scatter(x=Geo_idx_returns.index, y=Geo_idx_returns[region], mode=\"lines\", name=region))\n",
    "\n",
    "fig_geo.update_layout(\n",
    "    title=\"Geographical Market Trends\",\n",
    "    xaxis_title=\"Date\",\n",
    "    yaxis_title=\"Geographical Market Trend [%]\",\n",
    "    legend_title=\"Geographical Markets\",\n",
    ")\n",
    "fig_geo.show()"
   ]
  },
  {
   "cell_type": "markdown",
   "metadata": {},
   "source": [
    "Test Company group"
   ]
  },
  {
   "cell_type": "code",
   "execution_count": null,
   "metadata": {},
   "outputs": [],
   "source": [
    "from Company import Company\n",
    "# Think about creating a downloaded database that is stored in a csv file\n",
    "Companies = {ticker: Company(ticker,start_date) for ticker in Market_Tickers}"
   ]
  },
  {
   "cell_type": "markdown",
   "metadata": {},
   "source": [
    "Calculate popularity distribution"
   ]
  },
  {
   "cell_type": "code",
   "execution_count": null,
   "metadata": {},
   "outputs": [],
   "source": [
    "# softmax_exp = {ticker: np.exp(Companies[ticker].trading_volume/Companies[ticker].shares_outstanding) for ticker in Market_Tickers}\n",
    "# softmax_sum = np.sum(val for val in softmax_exp.values())\n",
    "\n",
    "distribution_sum = sum(Companies[ticker].trading_volume/Companies[ticker].shares_outstanding for ticker in Market_Tickers)\n",
    "for ticker in Market_Tickers:\n",
    "    Companies[ticker].popularity = (Companies[ticker].trading_volume/Companies[ticker].shares_outstanding)/distribution_sum\n",
    "\n",
    "fig_popularity = go.Figure()\n",
    "fig_popularity.add_trace(go.Bar(x=Market_Tickers, y=[company.popularity for company in Companies.values()], \n",
    "                                name=\"Popularity distribution\"))\n",
    "fig_popularity.add_trace(go.Bar(x=Market_Tickers, y=[company.trading_volume/company.shares_outstanding for company in Companies.values()], \n",
    "                                name=\"relative traded volume\"))\n",
    "\n",
    "fig_popularity.show()"
   ]
  },
  {
   "cell_type": "markdown",
   "metadata": {},
   "source": [
    "Plot return distributions"
   ]
  },
  {
   "cell_type": "code",
   "execution_count": null,
   "metadata": {},
   "outputs": [],
   "source": [
    "# Plot world index returns\n",
    "fig_world_idx = px.histogram(x=world_idx_price[\"returns\"].values, title=\"World index daily returns\", labels={\"x\": \"Returns [%]\", \"y\": \"Frequency\"})\n",
    "fig_world_idx.show()\n",
    "\n",
    "# Plot sectors\n",
    "for key in Sector_idx_daily_chng.keys():\n",
    "    fig = px.histogram(x=Sector_idx_daily_chng[key], title=f\"{key} sector index daily returns\", \n",
    "                       labels={\"x\": key + \" sector index daily returns [%]\", \"y\": \"Frequency\"})\n",
    "    fig.show()\n",
    "\n",
    "# Plot geographical markets\n",
    "for key in Geo_idx_daily_chng.keys():\n",
    "    fig = px.histogram(x=Geo_idx_daily_chng[key], title=f\"{key} index daily returns\", \n",
    "                       labels={\"x\": key + \" index daily returns [%]\", \"y\": \"Frequency\"})\n",
    "    fig.show()"
   ]
  },
  {
   "cell_type": "markdown",
   "metadata": {},
   "source": [
    "Plot CDFs"
   ]
  },
  {
   "cell_type": "code",
   "execution_count": null,
   "metadata": {},
   "outputs": [],
   "source": [
    "# Plot World index CDF\n",
    "fig = go.Figure()\n",
    "fig.add_trace(go.Scatter(x=world_idx_price[\"sorted returns\"],y=world_idx_price[\"CDF\"],mode='lines',name=\"Market Trend\"))\n",
    "fig.update_layout(\n",
    "    title=\"Daily Market returns' CDF\",\n",
    "    xaxis_title=\"Daily returns [%]\",\n",
    "    yaxis_title=\"CDF\"\n",
    ")\n",
    "fig.show()\n",
    "\n",
    "# Plot sectors CDF\n",
    "fig_sectors = go.Figure()\n",
    "for sector in sectors:\n",
    "    fig_sectors.add_trace(go.Scatter(x=Sector_idx_daily_chng_srt[sector], y=Sector_idx_cdf[sector], mode=\"lines\", name=sector))\n",
    "\n",
    "fig_sectors.update_layout(\n",
    "    title=\"Sector Trends\",\n",
    "    xaxis_title=\"Daily sector returns [%]\",\n",
    "    yaxis_title=\"CDF\",\n",
    "    legend_title=\"Sectors\",\n",
    ")\n",
    "fig_sectors.show()\n",
    "\n",
    "# Plot geographical markets CDF\n",
    "fig_geo = go.Figure()\n",
    "for region in regions:\n",
    "    fig_geo.add_trace(go.Scatter(x=Geo_idx_daily_chng_srt[region], y=Geo_idx_cdf[region], mode=\"lines\", name=region))\n",
    "\n",
    "fig_geo.update_layout(\n",
    "    title=\"Geographical Market Trends\",\n",
    "    xaxis_title=\"Daily returns [%]\",\n",
    "    yaxis_title=\"CDF\",\n",
    "    legend_title=\"Geographical Markets\",\n",
    ")\n",
    "fig_geo.show()"
   ]
  },
  {
   "cell_type": "code",
   "execution_count": null,
   "metadata": {},
   "outputs": [],
   "source": []
  },
  {
   "cell_type": "code",
   "execution_count": null,
   "metadata": {},
   "outputs": [],
   "source": []
  },
  {
   "cell_type": "code",
   "execution_count": null,
   "metadata": {},
   "outputs": [],
   "source": []
  }
 ],
 "metadata": {
  "kernelspec": {
   "display_name": "Python 3",
   "language": "python",
   "name": "python3"
  },
  "language_info": {
   "codemirror_mode": {
    "name": "ipython",
    "version": 3
   },
   "file_extension": ".py",
   "mimetype": "text/x-python",
   "name": "python",
   "nbconvert_exporter": "python",
   "pygments_lexer": "ipython3",
   "version": "3.11.2"
  }
 },
 "nbformat": 4,
 "nbformat_minor": 2
}
